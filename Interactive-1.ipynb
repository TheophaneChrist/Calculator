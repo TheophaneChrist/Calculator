{
 "cells": [
  {
   "cell_type": "markdown",
   "metadata": {},
   "source": [
    "Connected to base (Python 3.8.8)"
   ]
  },
  {
   "cell_type": "code",
   "execution_count": null,
   "id": "2520d03f-92c5-440e-bffe-ba9624a1a84c",
   "metadata": {},
   "outputs": [
    {
     "ename": "NameError",
     "evalue": "name 'button2' is not defined",
     "output_type": "error",
     "traceback": [
      "\u001b[1;31m---------------------------------------------------------------------------\u001b[0m",
      "\u001b[1;31mNameError\u001b[0m                                 Traceback (most recent call last)",
      "File \u001b[1;32mc:\\Users\\Theo\\Desktop\\Buero_Etude\\PYthon_Work\\Python_Calculator\\Calculator.py:56\u001b[0m\n\u001b[0;32m     52\u001b[0m         rows  \u001b[39m=\u001b[39m rows\u001b[39m+\u001b[39m\u001b[39m1\u001b[39m\n\u001b[0;32m     55\u001b[0m \u001b[39mfor\u001b[39;00m button_calc \u001b[39min\u001b[39;00m Buttons:\n\u001b[1;32m---> 56\u001b[0m     button2\u001b[39m.\u001b[39mclicked\u001b[39m.\u001b[39mconnect(randon_word2)\n\u001b[0;32m     58\u001b[0m master_Layout\u001b[39m.\u001b[39maddLayout(main_Layout_1) \n\u001b[0;32m     59\u001b[0m master_Layout\u001b[39m.\u001b[39maddLayout(main_Layout) \n",
      "\u001b[1;31mNameError\u001b[0m: name 'button2' is not defined"
     ]
    }
   ],
   "source": [
    "from PyQt5.QtCore import Qt\n",
    "from PyQt5.QtWidgets import QApplication, QWidget, QLabel, QPushButton , QVBoxLayout, QHBoxLayout, QGridLayout, QLineEdit\n",
    "\n",
    "import random as rdn\n",
    "from nltk.corpus import words\n",
    "import nltk\n",
    "\n",
    "from matplotlib.backends.backend_qt5agg import FigureCanvasQTAgg as FigureCanvas\n",
    "from matplotlib.figure import Figure\n",
    "import numpy as np\n",
    "\n",
    "\n",
    "# Main App Objects and Settings\n",
    "app           = QApplication([]) \n",
    "\n",
    "main_window   = QWidget() \n",
    "\n",
    "main_window.setWindowTitle(\"Calculator\")\n",
    "\n",
    "main_window.resize( 250 , 300)\n",
    "\n",
    "main_Layout     = QGridLayout()\n",
    "\n",
    "main_Layout_1   = QGridLayout()\n",
    "\n",
    "master_Layout    = QVBoxLayout() \n",
    "\n",
    "# Calculator screen\n",
    "Calc_text = QLineEdit()\n",
    "Calc_text.setPlaceholderText(\"0\")\n",
    "Calc_text.setFixedWidth(500)\n",
    "main_Layout_1.addWidget(Calc_text,0,0)\n",
    "\n",
    "# create all App Objects\n",
    "\n",
    "Buttons = [ \"AC\" , \"+/-\" , \"%\" , \"/\", \"7\", \"8\", \"9\", \"*\", \"4\" , \"5\", \"6\" , \n",
    "           \"-\", \"1\", \"2\", \"3\", \"+\" , \"0\", \"=\"]\n",
    "\n",
    "#Buttons = [ \"7\" , \"8\" , \"9\" , \"/\", \"4\", \"5\", \"6\", \"*\", \"1\" , \"2\", \"3\" , \n",
    "#           \"+\", \"1\", \"2\", \"3\", \"+\" , \"0\", \"=\"]\n",
    "rows    = 1 \n",
    "col     = 0 \n",
    "but_num = 0 ; \n",
    "Button_calc =[]\n",
    "for button_calc in Buttons:\n",
    "    Button_calc.append( QPushButton(button_calc) ) \n",
    "    main_Layout.addWidget(Button_calc[but_num], rows,col)  # zeile row, column col\n",
    "    col                 = col     + 1 \n",
    "    but_num              = but_num  + 1\n",
    "    if col > 3:\n",
    "        col = 0 \n",
    "        rows  = rows+1\n",
    "\n",
    "\n",
    "for button_calc in Buttons:\n",
    "    button2.clicked.connect(randon_word2)\n",
    "\n",
    "master_Layout.addLayout(main_Layout_1) \n",
    "master_Layout.addLayout(main_Layout) \n",
    "\n",
    "main_window.setLayout(master_Layout)\n",
    "\n",
    "\n",
    "# Show/ Run our App\n",
    "\n",
    "main_window.show()\n",
    "app.exec_()"
   ]
  },
  {
   "cell_type": "code",
   "execution_count": null,
   "metadata": {},
   "outputs": [
    {
     "data": {
      "text/plain": [
       "<PyQt5.QtWidgets.QPushButton at 0x20fa497f040>"
      ]
     },
     "execution_count": 2,
     "metadata": {},
     "output_type": "execute_result"
    }
   ],
   "source": [
    "Button_calc[0]"
   ]
  },
  {
   "cell_type": "code",
   "execution_count": null,
   "metadata": {},
   "outputs": [
    {
     "data": {
      "text/plain": [
       "'AC'"
      ]
     },
     "execution_count": 3,
     "metadata": {},
     "output_type": "execute_result"
    }
   ],
   "source": [
    "Button_calc[0].text()"
   ]
  },
  {
   "cell_type": "code",
   "execution_count": null,
   "metadata": {},
   "outputs": [
    {
     "ename": "ValueError",
     "evalue": "invalid literal for int() with base 10: 'AC'",
     "output_type": "error",
     "traceback": [
      "\u001b[1;31m---------------------------------------------------------------------------\u001b[0m",
      "\u001b[1;31mValueError\u001b[0m                                Traceback (most recent call last)",
      "Cell \u001b[1;32mIn[4], line 1\u001b[0m\n\u001b[1;32m----> 1\u001b[0m \u001b[39mint\u001b[39;49m(Button_calc[\u001b[39m0\u001b[39;49m]\u001b[39m.\u001b[39;49mtext())\n",
      "\u001b[1;31mValueError\u001b[0m: invalid literal for int() with base 10: 'AC'"
     ]
    }
   ],
   "source": [
    "int(Button_calc[0].text())"
   ]
  },
  {
   "cell_type": "code",
   "execution_count": null,
   "metadata": {},
   "outputs": [
    {
     "ename": "ValueError",
     "evalue": "invalid literal for int() with base 10: 'AC'",
     "output_type": "error",
     "traceback": [
      "\u001b[1;31m---------------------------------------------------------------------------\u001b[0m",
      "\u001b[1;31mValueError\u001b[0m                                Traceback (most recent call last)",
      "Cell \u001b[1;32mIn[6], line 1\u001b[0m\n\u001b[1;32m----> 1\u001b[0m \u001b[39misinstance\u001b[39m(\u001b[39mint\u001b[39;49m(Button_calc[\u001b[39m0\u001b[39;49m]\u001b[39m.\u001b[39;49mtext()) , (\u001b[39mint\u001b[39m,\u001b[39mfloat\u001b[39m))\n",
      "\u001b[1;31mValueError\u001b[0m: invalid literal for int() with base 10: 'AC'"
     ]
    }
   ],
   "source": [
    "isinstance(int(Button_calc[0].text()) , (int,float))"
   ]
  },
  {
   "cell_type": "code",
   "execution_count": null,
   "metadata": {},
   "outputs": [
    {
     "data": {
      "text/plain": [
       "False"
      ]
     },
     "execution_count": 7,
     "metadata": {},
     "output_type": "execute_result"
    }
   ],
   "source": [
    "isinstance((Button_calc[0].text()) , (int,float))"
   ]
  },
  {
   "cell_type": "code",
   "execution_count": null,
   "metadata": {},
   "outputs": [
    {
     "data": {
      "text/plain": [
       "False"
      ]
     },
     "execution_count": 8,
     "metadata": {},
     "output_type": "execute_result"
    }
   ],
   "source": [
    "isinstance(\"2\" , (int,float))"
   ]
  },
  {
   "cell_type": "code",
   "execution_count": null,
   "metadata": {},
   "outputs": [
    {
     "data": {
      "text/plain": [
       "True"
      ]
     },
     "execution_count": 9,
     "metadata": {},
     "output_type": "execute_result"
    }
   ],
   "source": [
    "isinstance(int(\"2\") , (int,float))"
   ]
  },
  {
   "cell_type": "code",
   "execution_count": null,
   "metadata": {},
   "outputs": [],
   "source": [
    "import re"
   ]
  },
  {
   "cell_type": "code",
   "execution_count": null,
   "metadata": {},
   "outputs": [
    {
     "ename": "NameError",
     "evalue": "name 'is_number' is not defined",
     "output_type": "error",
     "traceback": [
      "\u001b[1;31m---------------------------------------------------------------------------\u001b[0m",
      "\u001b[1;31mNameError\u001b[0m                                 Traceback (most recent call last)",
      "Cell \u001b[1;32mIn[2], line 1\u001b[0m\n\u001b[1;32m----> 1\u001b[0m is_number(\u001b[39m\"\u001b[39m\u001b[39m2\u001b[39m\u001b[39m\"\u001b[39m)\n",
      "\u001b[1;31mNameError\u001b[0m: name 'is_number' is not defined"
     ]
    }
   ],
   "source": [
    "is_number(\"2\")"
   ]
  },
  {
   "cell_type": "markdown",
   "metadata": {},
   "source": [
    "Restarted base (Python 3.8.8)"
   ]
  },
  {
   "cell_type": "code",
   "execution_count": null,
   "metadata": {},
   "outputs": [],
   "source": [
    "import re"
   ]
  },
  {
   "cell_type": "code",
   "execution_count": null,
   "id": "967380ae-91b0-4bc4-b383-557c0b5c3a23",
   "metadata": {},
   "outputs": [],
   "source": [
    "def is_number(value):\n",
    "    try:\n",
    "        float(value)\n",
    "        return True\n",
    "    except(ValueError, TypeError):\n",
    "        return False"
   ]
  },
  {
   "cell_type": "code",
   "execution_count": null,
   "metadata": {},
   "outputs": [
    {
     "data": {
      "text/plain": [
       "True"
      ]
     },
     "execution_count": 6,
     "metadata": {},
     "output_type": "execute_result"
    }
   ],
   "source": [
    "is_number(\"42\")"
   ]
  },
  {
   "cell_type": "code",
   "execution_count": null,
   "metadata": {},
   "outputs": [
    {
     "ename": "ValueError",
     "evalue": "could not convert string to float: 'ABC'",
     "output_type": "error",
     "traceback": [
      "\u001b[1;31m---------------------------------------------------------------------------\u001b[0m",
      "\u001b[1;31mValueError\u001b[0m                                Traceback (most recent call last)",
      "Cell \u001b[1;32mIn[7], line 1\u001b[0m\n\u001b[1;32m----> 1\u001b[0m is_number(\u001b[39mfloat\u001b[39;49m(\u001b[39m\"\u001b[39;49m\u001b[39mABC\u001b[39;49m\u001b[39m\"\u001b[39;49m))\n",
      "\u001b[1;31mValueError\u001b[0m: could not convert string to float: 'ABC'"
     ]
    }
   ],
   "source": [
    "is_number(float(\"ABC\"))"
   ]
  },
  {
   "cell_type": "code",
   "execution_count": null,
   "metadata": {},
   "outputs": [
    {
     "ename": "ValueError",
     "evalue": "invalid literal for int() with base 10: 'ABC'",
     "output_type": "error",
     "traceback": [
      "\u001b[1;31m---------------------------------------------------------------------------\u001b[0m",
      "\u001b[1;31mValueError\u001b[0m                                Traceback (most recent call last)",
      "Cell \u001b[1;32mIn[9], line 1\u001b[0m\n\u001b[1;32m----> 1\u001b[0m is_number(\u001b[39mint\u001b[39;49m(\u001b[39m\"\u001b[39;49m\u001b[39mABC\u001b[39;49m\u001b[39m\"\u001b[39;49m))\n",
      "\u001b[1;31mValueError\u001b[0m: invalid literal for int() with base 10: 'ABC'"
     ]
    }
   ],
   "source": [
    "is_number(int(\"ABC\"))"
   ]
  },
  {
   "cell_type": "code",
   "execution_count": null,
   "metadata": {},
   "outputs": [
    {
     "data": {
      "text/plain": [
       "False"
      ]
     },
     "execution_count": 10,
     "metadata": {},
     "output_type": "execute_result"
    }
   ],
   "source": [
    "is_number((\"ABC\"))"
   ]
  },
  {
   "cell_type": "code",
   "execution_count": null,
   "metadata": {},
   "outputs": [
    {
     "data": {
      "text/plain": [
       "True"
      ]
     },
     "execution_count": 11,
     "metadata": {},
     "output_type": "execute_result"
    }
   ],
   "source": [
    "is_number((\"1\"))"
   ]
  },
  {
   "cell_type": "code",
   "execution_count": null,
   "metadata": {},
   "outputs": [
    {
     "data": {
      "text/plain": [
       "1.0"
      ]
     },
     "execution_count": 13,
     "metadata": {},
     "output_type": "execute_result"
    }
   ],
   "source": [
    "float(\"1\")"
   ]
  },
  {
   "cell_type": "code",
   "execution_count": null,
   "metadata": {},
   "outputs": [
    {
     "ename": "NameError",
     "evalue": "name 'Buttons' is not defined",
     "output_type": "error",
     "traceback": [
      "\u001b[1;31m---------------------------------------------------------------------------\u001b[0m",
      "\u001b[1;31mNameError\u001b[0m                                 Traceback (most recent call last)",
      "Cell \u001b[1;32mIn[14], line 1\u001b[0m\n\u001b[1;32m----> 1\u001b[0m \u001b[39mlen\u001b[39m(Buttons) \n",
      "\u001b[1;31mNameError\u001b[0m: name 'Buttons' is not defined"
     ]
    }
   ],
   "source": [
    "len(Buttons) "
   ]
  },
  {
   "cell_type": "code",
   "execution_count": null,
   "metadata": {},
   "outputs": [
    {
     "ename": "NameError",
     "evalue": "name 'Buttons' is not defined",
     "output_type": "error",
     "traceback": [
      "\u001b[1;31m---------------------------------------------------------------------------\u001b[0m",
      "\u001b[1;31mNameError\u001b[0m                                 Traceback (most recent call last)",
      "Cell \u001b[1;32mIn[15], line 1\u001b[0m\n\u001b[1;32m----> 1\u001b[0m Buttons \n",
      "\u001b[1;31mNameError\u001b[0m: name 'Buttons' is not defined"
     ]
    }
   ],
   "source": [
    "Buttons "
   ]
  },
  {
   "cell_type": "code",
   "execution_count": 1,
   "metadata": {},
   "outputs": [
    {
     "ename": "NameError",
     "evalue": "name 'Buttons' is not defined",
     "output_type": "error",
     "traceback": [
      "\u001b[1;31m---------------------------------------------------------------------------\u001b[0m",
      "\u001b[1;31mNameError\u001b[0m                                 Traceback (most recent call last)",
      "Cell \u001b[1;32mIn[1], line 1\u001b[0m\n\u001b[1;32m----> 1\u001b[0m \u001b[43mButtons\u001b[49m \n",
      "\u001b[1;31mNameError\u001b[0m: name 'Buttons' is not defined"
     ]
    }
   ],
   "source": [
    "Buttons "
   ]
  }
 ],
 "metadata": {
  "kernelspec": {
   "display_name": "base",
   "language": "python",
   "name": "python3"
  },
  "language_info": {
   "codemirror_mode": {
    "name": "ipython",
    "version": 3
   },
   "file_extension": ".py",
   "mimetype": "text/x-python",
   "name": "python",
   "nbconvert_exporter": "python",
   "pygments_lexer": "ipython3",
   "version": "3.8.8"
  }
 },
 "nbformat": 4,
 "nbformat_minor": 2
}
